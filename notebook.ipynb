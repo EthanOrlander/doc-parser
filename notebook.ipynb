{
  "cells": [
    {
      "cell_type": "markdown",
      "metadata": {
        "id": "mz33G3t6gbOl"
      },
      "source": [
        "# RAG\n",
        "\n",
        "Retrieval-Augmented Generation (RAG) is a technique that combines the strengths of pre-trained language models with the ability to retrieve information from a large corpus of documents. RAG **enables the language model to produce more informed, accurate, and contextually relevant answers** than by relying on its pre-trained knowledge alone.\n",
        "\n",
        "At Cohere, all RAG calls come with... **precise citations**! 🎉\n",
        "The model cites which groups of words, in the RAG chunks, were used to generate the final answer.  \n",
        "These citations make it easy to check where the model’s generated response claims are coming from and they help users gain visibility into the model reasoning.  \n",
        "\n",
        "RAG consists of 3 steps:\n",
        "- Step 1: Indexing and given a user query, retrieve the relevant chunks from the index\n",
        "- Step 2: Optionally, rerank the retrieved chunks\n",
        "- Step 3: Generate the model final answer with **precise citations**, given the retrieved and reranked chunks\n",
        "\n",
        "\n"
      ]
    },
    {
      "cell_type": "markdown",
      "metadata": {
        "id": "nSB0pnt0gbOo"
      },
      "source": [
        "## Step 0 - Imports & Getting some data\n",
        "\n",
        "In this example, we'll use a recent piece of text, that wasn't in the training data: the Wikipedia page of the movie \"Dune 2\".   \n",
        "\n",
        "In practice, you would typically do RAG on much longer text, that doesn't fit in the context window of the model."
      ]
    },
    {
      "cell_type": "code",
      "execution_count": 1,
      "metadata": {
        "colab": {
          "base_uri": "https://localhost:8080/"
        },
        "id": "H787BXXYvD0a",
        "outputId": "04ef5e04-7760-4d40-deeb-663536b38f20"
      },
      "outputs": [
        {
          "name": "stdout",
          "output_type": "stream",
          "text": [
            "\u001b[33mWARNING: You are using pip version 22.0.4; however, version 24.0 is available.\n",
            "You should consider upgrading via the '/Users/ethanorlander/.pyenv/versions/3.10.3/bin/python -m pip install --upgrade pip' command.\u001b[0m\u001b[33m\n",
            "\u001b[0mNote: you may need to restart the kernel to use updated packages.\n"
          ]
        }
      ],
      "source": [
        "# we'll use Cohere to cover all building blocks of RAG\n",
        "# TODO: upgrade to \"cohere>5\"\n",
        "%pip install \"cohere<5\" --quiet"
      ]
    },
    {
      "cell_type": "code",
      "execution_count": 2,
      "metadata": {
        "id": "rACbepFGgbOo"
      },
      "outputs": [],
      "source": [
        "import cohere\n",
        "API_KEY = \"...\" # fill in your Cohere API key here\n",
        "co = cohere.Client(\"VpapZVh1VY3ugmvhkV44ZcVsz3RTFB2zJilg8WYe\")"
      ]
    },
    {
      "cell_type": "code",
      "execution_count": null,
      "metadata": {
        "colab": {
          "base_uri": "https://localhost:8080/"
        },
        "id": "QdvbqfFrgbOq",
        "outputId": "3882c95c-46bf-4dcc-99a2-453b3c2fc7c4"
      },
      "outputs": [
        {
          "name": "stdout",
          "output_type": "stream",
          "text": [
            "  Preparing metadata (setup.py) ... \u001b[?25l\u001b[?25hdone\n",
            "  Building wheel for wikipedia (setup.py) ... \u001b[?25l\u001b[?25hdone\n"
          ]
        }
      ],
      "source": [
        "# we'll get some wikipedia data\n",
        "# !pip install wikipedia --quiet\n",
        "# import wikipedia"
      ]
    },
    {
      "cell_type": "code",
      "execution_count": 5,
      "metadata": {
        "colab": {
          "base_uri": "https://localhost:8080/"
        },
        "id": "xP-bWt9XgbOq",
        "outputId": "72276fb2-0d6b-415d-af74-452a013ae84b"
      },
      "outputs": [
        {
          "name": "stdout",
          "output_type": "stream",
          "text": [
            "The text has roughly 3262 words.\n"
          ]
        }
      ],
      "source": [
        "# let's get the wikipedia article about Dune Part Two\n",
        "with open('esop-sample-2.txt', 'r') as file:\n",
        "    text = file.read().replace('\\n', '')\n",
        "\n",
        "print(f\"The text has roughly {len(text.split())} words.\")"
      ]
    },
    {
      "cell_type": "markdown",
      "metadata": {
        "id": "-1aJ7hKGgbOr"
      },
      "source": [
        "## Step 1 - Indexing and given a user query, retrieve the relevant chunks from the index\n",
        "\n",
        "We index the document in a vector database. This requires getting the documents, chunking them, embedding, and indexing them in a vector database. Then we retrieved relevant results based on the users' query.\n",
        "\n",
        "### We split the document into chunks of roughly 512 words"
      ]
    },
    {
      "cell_type": "code",
      "execution_count": 6,
      "metadata": {
        "colab": {
          "base_uri": "https://localhost:8080/"
        },
        "id": "ZUph1JX41665",
        "outputId": "6c63a93f-6999-47af-e704-d4a88727bc75"
      },
      "outputs": [
        {
          "name": "stdout",
          "output_type": "stream",
          "text": [
            "Note: you may need to restart the kernel to use updated packages.\n"
          ]
        }
      ],
      "source": [
        "# For chunking let's use langchain to help us split the text\n",
        "%pip install -qU langchain-text-splitters --quiet\n",
        "from langchain_text_splitters import RecursiveCharacterTextSplitter"
      ]
    },
    {
      "cell_type": "code",
      "execution_count": 7,
      "metadata": {
        "colab": {
          "base_uri": "https://localhost:8080/"
        },
        "id": "uhXW7iHC1-Q6",
        "outputId": "d68ac348-4b73-4c6a-a445-6c510bdb0881"
      },
      "outputs": [
        {
          "name": "stdout",
          "output_type": "stream",
          "text": [
            "The text has been broken down in 46 chunks.\n"
          ]
        }
      ],
      "source": [
        "# Create basic configurations to chunk the text\n",
        "text_splitter = RecursiveCharacterTextSplitter(\n",
        "    chunk_size=512,\n",
        "    chunk_overlap=50,\n",
        "    length_function=len,\n",
        "    is_separator_regex=False,\n",
        ")\n",
        "\n",
        "# Split the text into chunks with some overlap\n",
        "chunks_ = text_splitter.create_documents([text])\n",
        "chunks = [c.page_content for c in chunks_]\n",
        "print(f\"The text has been broken down in {len(chunks)} chunks.\")"
      ]
    },
    {
      "cell_type": "markdown",
      "metadata": {
        "id": "P8g0sE2hgbOs"
      },
      "source": [
        "### Embed every text chunk\n",
        "\n",
        "Cohere embeddings are state-of-the-art."
      ]
    },
    {
      "cell_type": "code",
      "execution_count": 8,
      "metadata": {
        "colab": {
          "base_uri": "https://localhost:8080/"
        },
        "id": "KEarMPEqgbOs",
        "outputId": "7da0e06d-f637-4470-8e01-6de8249be64b"
      },
      "outputs": [
        {
          "name": "stdout",
          "output_type": "stream",
          "text": [
            "We just computed 46 embeddings.\n"
          ]
        }
      ],
      "source": [
        "# Because the texts being embedded are the chunks we are searching over, we set the input type as search_doc\n",
        "model=\"embed-english-v3.0\"\n",
        "response = co.embed(\n",
        "    texts= chunks,\n",
        "    model=model,\n",
        "    input_type=\"search_document\",\n",
        "    embedding_types=['float']\n",
        ")\n",
        "embeddings = response.embeddings.float\n",
        "print(f\"We just computed {len(embeddings)} embeddings.\")"
      ]
    },
    {
      "cell_type": "markdown",
      "metadata": {
        "id": "HM6vKeypgbOs"
      },
      "source": [
        "### Store the embeddings in a vector database\n",
        "\n",
        "We use the simplest vector database ever: a python dictionary using `np.array()`."
      ]
    },
    {
      "cell_type": "code",
      "execution_count": 9,
      "metadata": {
        "id": "sdW7M8HLvB-9"
      },
      "outputs": [
        {
          "name": "stdout",
          "output_type": "stream",
          "text": [
            "\u001b[33mWARNING: You are using pip version 22.0.4; however, version 24.0 is available.\n",
            "You should consider upgrading via the '/Users/ethanorlander/.pyenv/versions/3.10.3/bin/python3.10 -m pip install --upgrade pip' command.\u001b[0m\u001b[33m\n",
            "\u001b[0m"
          ]
        }
      ],
      "source": [
        "# We use the simplest vector database ever: a python dictionary\n",
        "!pip install numpy --quiet"
      ]
    },
    {
      "cell_type": "code",
      "execution_count": 10,
      "metadata": {
        "id": "H2srFH-IgbOs"
      },
      "outputs": [],
      "source": [
        "import numpy as np\n",
        "vector_database = {i: np.array(embedding) for i, embedding in enumerate(embeddings)}\n",
        "# { 0: array([...]), 1: array([...]), 2: array([...]), ..., 10: array([...]) }"
      ]
    },
    {
      "cell_type": "markdown",
      "metadata": {
        "id": "q6NGVurZgbOs"
      },
      "source": [
        "## Given a user query, retrieve the relevant chunks from the vector database\n"
      ]
    },
    {
      "cell_type": "markdown",
      "metadata": {
        "id": "eC05yJQ7jlek"
      },
      "source": [
        "### Define the user question"
      ]
    },
    {
      "cell_type": "code",
      "execution_count": 25,
      "metadata": {
        "id": "Y2HTxspKgbOs"
      },
      "outputs": [],
      "source": [
        "# query = \"What is the name of the optionee? Respond only with the name and nothing else.\"\n",
        "query = \"Are the options ISO or NSO? Repond only with ISO or NSO and nothing else.\"\n",
        "\n",
        "# Note: the relevant passage in the wikipedia page we're looking for is:\n",
        "# \"[...] Dune: Part Two was originally scheduled to be released on October 20, 2023, but was delayed to November 17, 2023, before moving forward two weeks to November 3, 2023, to adjust to changes in release schedules from other studios. It was later postponed by over four months to March 15, 2024, due to the 2023 Hollywood labor disputes. After the strikes were resolved, the film moved once more up two weeks to March 1, 2024. [...]\""
      ]
    },
    {
      "cell_type": "markdown",
      "metadata": {
        "id": "9oULg1tOjjOW"
      },
      "source": [
        "### Embed the user question\n",
        "\n",
        "Cohere embeddings are state-of-the-art."
      ]
    },
    {
      "cell_type": "code",
      "execution_count": 26,
      "metadata": {
        "colab": {
          "base_uri": "https://localhost:8080/"
        },
        "id": "yrUuS6vXgbOs",
        "outputId": "0c64a930-f817-43c2-d775-1d9145cb304e"
      },
      "outputs": [
        {
          "name": "stdout",
          "output_type": "stream",
          "text": [
            "query_embedding:  [-0.0362854, -0.0033473969, -0.002653122, -0.028717041, -0.031982422, 0.021118164, -0.019622803, 0.013130188, -0.015625, 0.020599365, -0.017700195, -0.01108551, -0.035858154, -0.02848816, 0.027191162, -0.03729248, 0.0012083054, -0.007671356, -0.013282776, -0.05178833, 0.02130127, -0.05706787, 0.025604248, 0.020141602, 0.023757935, 0.04736328, 0.008430481, -0.015014648, 0.036499023, 0.011627197, 0.019546509, -0.048431396, 0.0020256042, 0.027832031, -0.02444458, 0.031204224, -0.005088806, -0.004623413, -0.012825012, 0.018585205, 0.024429321, -0.01184845, 0.044189453, -0.0033683777, -0.015487671, 0.026000977, -0.014579773, -0.037109375, 0.020523071, 0.029754639, -0.012825012, -0.022476196, 0.01612854, -0.059173584, 0.0031108856, -0.0016956329, -0.030944824, 0.0071754456, 0.0026760101, 0.007827759, 0.015670776, 0.041992188, 0.021606445, 0.047851562, 0.047210693, -0.056488037, 0.062561035, 0.019699097, -0.024887085, 0.033203125, 0.0440979, 0.016738892, 0.020706177, -0.08807373, 0.025512695, 0.06555176, -0.038879395, 0.025146484, 0.008338928, -0.029846191, 0.006664276, 0.050354004, -0.0067863464, -0.03265381, 0.010093689, -0.011146545, -0.012870789, -0.026657104, 0.010765076, 0.020477295, -0.0053749084, -0.038269043, -0.010810852, 0.109436035, -0.0074272156, 0.016403198, 0.010383606, -0.013519287, -0.023880005, -0.020996094, -0.02407837, -0.03805542, 0.008888245, -0.019241333, -0.011520386, 0.0012865067, 0.026931763, -0.05407715, -0.023849487, -0.0020885468, -0.049102783, 0.03704834, 0.0033092499, -0.035003662, -0.00084495544, -0.015357971, -0.029876709, 0.016494751, -0.0011758804, -0.05697632, 0.03491211, 0.050048828, 0.024765015, -0.07336426, -0.009391785, -0.00680542, -0.043640137, -0.032928467, 0.002166748, -0.009819031, 0.017700195, 0.023010254, -0.03086853, 0.016616821, -0.012916565, 0.006790161, -0.015380859, -0.014724731, 0.026626587, -0.021881104, 0.078125, -0.037200928, 0.020568848, 0.09265137, -0.0060310364, 0.02772522, 0.018585205, -0.024261475, 0.014289856, 0.010360718, -0.072143555, 0.02293396, 0.036621094, -0.007972717, -0.0137786865, 0.020248413, -0.01651001, 0.00088500977, -0.028533936, -0.00082683563, -0.004146576, -0.021026611, 0.015571594, 0.017211914, -0.023468018, 0.038604736, 0.011421204, -0.001750946, 0.01524353, 0.05581665, -0.026733398, -0.052886963, 0.005580902, -0.0027561188, -0.026672363, 0.040161133, 0.0036506653, 0.011795044, 0.012084961, 0.012779236, 0.0023403168, -0.052856445, 0.026824951, -0.014297485, -0.01727295, 0.005584717, 0.014823914, 0.04232788, -9.161234e-05, 0.0057754517, -0.015022278, -0.010971069, 0.0047569275, 0.005607605, -0.006450653, -0.0036792755, 0.0004503727, 0.039794922, -0.0070724487, -0.0090789795, -0.024551392, -0.0031471252, -0.016311646, 0.0007176399, -0.041168213, -0.017044067, -0.010063171, -0.0017595291, -0.055114746, 0.024276733, 0.011779785, -0.030639648, -0.029968262, 0.04397583, 0.043029785, -0.026123047, -0.028396606, 0.03543091, -0.036895752, -0.020355225, -0.007434845, -0.022598267, 0.025360107, 0.10668945, 0.06518555, 0.04876709, -0.026428223, 0.025817871, 0.07867432, 0.015960693, 0.034179688, 0.0037727356, -0.060028076, 0.011985779, -0.018981934, 0.0011606216, 0.030410767, 0.043792725, 0.019042969, -0.014053345, 0.005706787, 0.006011963, 0.023086548, 0.051208496, -0.007843018, 0.023727417, 0.038085938, 0.00032162666, -0.0129852295, -0.012084961, 0.088256836, -0.020339966, 0.012794495, 0.04522705, 0.0647583, -0.014228821, -0.057891846, -0.011299133, 0.0259552, -0.049194336, 0.010620117, 0.011360168, 0.02708435, -0.008590698, -0.033966064, -0.007423401, -0.006855011, -0.0019464493, -0.016586304, 0.023086548, 0.02456665, -0.048461914, -0.0030002594, 0.026000977, -0.01586914, -0.023971558, -0.007358551, 0.010887146, -0.014472961, -0.0038337708, 0.0013151169, -0.001250267, -0.00032401085, -0.0041046143, 0.03793335, -0.008346558, 0.0037212372, -0.013946533, 0.026687622, 0.00724411, 0.053344727, -0.018310547, -0.021270752, -0.0024986267, 0.00793457, -0.05709839, -0.028045654, 0.013282776, 0.005012512, -0.017700195, -0.017822266, 0.0579834, -0.026947021, 0.012435913, -0.0002053976, -0.012245178, -0.018539429, 0.030654907, 0.0211792, -0.030181885, -0.014099121, 0.038085938, 0.012634277, -0.010040283, -0.029663086, 0.0024261475, -0.041870117, -0.00737381, -0.033203125, 0.016616821, 0.02178955, 0.006877899, -0.016586304, 0.0413208, 0.00762558, -0.017486572, 0.05822754, -0.0060539246, -0.008911133, -0.045898438, 0.019638062, -0.04864502, -0.0423584, -0.05026245, 0.01777649, 0.008872986, -0.0040016174, 0.0039520264, -0.018997192, 0.03451538, 0.049926758, 0.009254456, 0.042938232, -0.026626587, -0.0076179504, -0.025848389, -0.022003174, -0.0024681091, -0.05029297, -0.0134887695, 0.035339355, -0.027191162, 0.025405884, -0.0011234283, 0.04119873, 0.00063467026, -0.05328369, 0.0049743652, 0.038757324, -0.05142212, 0.025909424, 0.007091522, 0.013946533, 0.005870819, -0.017349243, -0.06378174, -0.0027656555, 0.012924194, -0.005214691, 0.014297485, -0.032318115, 0.010185242, -0.008255005, -0.015533447, -0.02822876, 0.021347046, 0.015197754, -0.049468994, 0.06561279, 0.02557373, 0.00907135, -0.015792847, 0.08459473, -0.0042037964, 0.05581665, -0.009124756, -0.021865845, 0.03414917, 0.019348145, 0.015106201, -0.018157959, -0.007534027, 0.05618286, -0.043518066, 0.0680542, 0.026901245, -0.03152466, 0.0048675537, 0.0023880005, -0.035064697, 0.018249512, -0.019485474, -0.03591919, -0.011268616, 0.0036735535, -0.11224365, 0.036193848, -0.04119873, 0.015686035, 0.047088623, -0.00894928, -0.03186035, -0.0141067505, -0.012382507, -0.007987976, 0.021377563, -0.035186768, 0.01802063, -0.0011310577, 0.013038635, -0.023147583, 0.038116455, -0.024108887, 0.015327454, -0.049835205, -0.056152344, 0.035369873, 0.060791016, -0.022003174, 0.010658264, -0.005634308, -0.037597656, 0.006690979, 0.0018262863, -0.04434204, 0.029876709, -0.008758545, 0.023864746, 0.011230469, -0.042633057, 0.0011892319, 0.014595032, 0.009475708, 0.04095459, -0.031158447, 0.009742737, 0.019699097, -0.024398804, -0.031234741, -0.036590576, -0.0018949509, 0.023086548, 0.0026187897, 0.020111084, 0.010025024, -0.0027503967, -0.04559326, -0.0062446594, 0.048980713, -0.019683838, -0.046966553, 0.007045746, -0.0107040405, -0.057403564, -0.011123657, -0.02041626, -0.0074806213, -0.032073975, -0.057556152, 0.03161621, -0.042175293, 0.058532715, 0.017944336, 0.0022411346, 0.0259552, -0.006702423, -0.026153564, 0.032287598, -0.091308594, -0.017471313, 0.029830933, -0.0036125183, -0.051727295, 0.0028247833, -0.024353027, 0.018371582, -0.04916382, 0.053253174, 0.008956909, 0.07434082, 0.09387207, 0.009819031, 0.0769043, 0.029190063, 0.00920105, -0.04525757, 0.009124756, 0.0035915375, -0.015411377, -0.051940918, -0.040924072, -0.020187378, 0.023101807, 0.034973145, -0.0112838745, -0.015411377, -0.010482788, 0.011581421, 0.007858276, -0.020431519, 0.019180298, -0.024841309, -0.011352539, 0.002571106, -0.05126953, -0.0045776367, -0.012672424, 0.003835678, -0.04159546, 0.0135650635, -0.03338623, 0.004886627, 0.0035953522, 0.0491333, -0.029373169, 0.011505127, -0.0357666, 0.0317688, -0.062927246, -0.0059051514, 0.034851074, 0.0050697327, 0.00041389465, -0.060424805, 0.013328552, 0.020095825, -0.033416748, 0.022216797, 0.067993164, -0.020187378, 0.022491455, 0.01424408, -0.042175293, 0.010444641, -0.011581421, -0.051940918, -0.005634308, -0.0004234314, 0.0011301041, -0.02041626, 0.012031555, 0.034088135, -0.0056648254, -0.06591797, -0.023330688, -0.009544373, 0.046966553, -0.024978638, -0.029632568, 0.022415161, -0.018661499, 0.045288086, -0.030288696, 0.016067505, 0.016174316, 0.004776001, 0.024978638, 0.0041389465, -0.0023880005, -0.04043579, -0.0066452026, -0.01751709, 0.00095939636, -0.0013065338, -0.009094238, 0.03427124, -0.013809204, 0.037872314, -0.014526367, 0.015563965, 0.049438477, -0.0066184998, -0.05340576, 0.05316162, 0.010375977, 0.014053345, -0.029159546, 0.044403076, -0.016448975, -0.008384705, 0.0011730194, -0.034088135, -0.013122559, -0.023483276, 0.014572144, 0.009918213, 0.04953003, -0.0020389557, 0.0053749084, 0.011672974, 0.010093689, 0.020553589, 0.009651184, -0.009986877, -0.026855469, 0.0077934265, 0.0368042, -0.010070801, -0.025924683, -0.02734375, 0.020812988, 0.022216797, 0.00051164627, -0.013267517, -0.017822266, -0.010154724, 0.03564453, -0.011459351, -0.009536743, 0.026794434, 0.03475952, -0.0032291412, 0.04449463, -0.02809143, 0.051086426, 0.0012083054, -0.030212402, -0.0037841797, 0.003944397, 0.014434814, -0.045806885, 0.008178711, -0.009803772, 0.009338379, 0.05505371, -0.04348755, 0.0013284683, 0.018997192, 0.00030136108, 0.012893677, -0.01259613, -0.0055885315, -0.013038635, -0.02268982, 0.0010871887, -0.029052734, -0.012184143, -0.00040364265, 0.0068244934, -0.022354126, -0.0069770813, 0.00016522408, 0.031982422, 0.016937256, 0.0012741089, 0.051940918, -0.026535034, 0.018676758, -0.001077652, -0.037322998, -0.06555176, -0.017456055, -0.016799927, -0.029342651, 0.0362854, -0.020095825, 0.038879395, 0.035003662, -0.032470703, 0.030960083, -0.026260376, 0.0024166107, -0.041992188, -0.027557373, -0.006072998, -0.0054740906, 0.07574463, 0.03829956, 0.049224854, -0.079589844, -0.009117126, -0.0005683899, 0.018051147, 0.010810852, -0.039154053, 0.027832031, -0.01423645, -0.016143799, -0.0044670105, -0.0079422, -0.03930664, -0.018875122, -0.009117126, -0.018005371, 0.02420044, 0.023605347, -0.01146698, 0.02558899, -0.05819702, -0.030807495, -0.017837524, 0.052001953, 0.028701782, 0.046081543, 0.024780273, 0.01763916, -0.01953125, -0.030197144, 0.04940796, 0.04437256, -0.0014953613, -0.005065918, 0.034057617, 0.0058555603, 0.0059051514, -0.047180176, -0.029281616, 0.01953125, -0.029724121, 0.018600464, -0.018630981, 0.018920898, 0.05996704, -0.028625488, 0.021575928, 0.018875122, -0.007987976, -0.001537323, 0.015090942, -0.0009069443, 0.008323669, 0.06896973, -0.048217773, 0.0022850037, 0.030807495, 0.008071899, -0.009986877, 0.023391724, 0.0042152405, -0.050476074, -0.013412476, -0.025360107, 0.028671265, 0.005153656, -0.074157715, 0.023590088, 0.0070991516, -0.0069503784, -0.10827637, -0.07989502, -0.04925537, 0.02128601, -0.0413208, -0.040130615, -0.0027618408, -0.0048446655, 0.053527832, -0.01965332, -0.05392456, -0.00819397, -0.034088135, 0.008720398, -0.036712646, 0.011650085, -0.0068969727, 0.01701355, -0.03036499, -0.060577393, -0.032806396, 0.05215454, 0.035369873, 0.025909424, -0.01914978, 0.011619568, -0.08734131, 0.051971436, 0.011398315, -0.029937744, -0.017608643, 0.02015686, 0.019638062, 0.04171753, 0.010032654, -0.024520874, -0.004714966, 0.011924744, -0.021087646, 0.068359375, -0.06100464, -0.0043754578, -0.03439331, 0.05343628, 0.0021152496, 0.06463623, 0.050231934, 0.026153564, -0.0031433105, 0.009147644, 0.066589355, -0.024841309, -0.017440796, -0.0045661926, -0.007621765, 0.036224365, 0.008552551, -0.012016296, 0.016189575, 0.043426514, -0.026046753, 0.047851562, -0.0031833649, -0.01789856, -0.01739502, 0.036346436, 0.0051193237, 0.03274536, 0.082214355, 0.023742676, -0.030075073, 0.0016756058, -0.04940796, 0.013114929, 0.03933716, 0.009643555, 0.013587952, -0.022735596, -0.021347046, 0.01902771, 0.03567505, 0.03060913, 0.0044441223, 0.015640259, 0.057861328, 0.050598145, 0.06097412, -0.0035705566, -0.004623413, -0.014953613, 0.010566711, -0.013191223, -0.012420654, -0.044830322, 0.04034424, -0.03665161, -0.005104065, 0.035827637, 0.023468018, -0.021713257, 0.06677246, 0.033477783, 0.037719727, -0.0032348633, -0.0020370483, -0.025543213, 0.028289795, 0.023071289, 0.06237793, -0.020736694, 0.012825012, 0.032684326, -0.021331787, 0.016464233, -0.040527344, 0.0060272217, 0.015625, -0.006198883, 0.0022945404, 0.0025043488, -0.025421143, -0.017044067, 0.010902405, -0.0028629303, 0.03765869, 0.034362793, -0.021347046, 0.021392822, 0.022491455, -0.010116577, 0.03036499, -0.0060424805, 0.020050049, 0.03765869, 0.032470703, -0.022399902, -0.014450073, 0.066467285, -0.010482788, -0.008781433, 0.038482666, -0.011405945, -0.02645874, -0.045898438, -0.019088745, -0.009674072, -0.09185791, 0.016815186, -0.058654785, 0.010658264, 0.0055236816, -0.019683838, -0.0028495789, 0.01272583, -0.03564453, -0.003200531, 0.024017334, -0.0059547424, 0.016159058, -0.05319214, -0.057403564, -0.04269409, 0.033081055, -0.036102295, -0.04550171, -0.021591187, 0.017944336, -0.031341553, -0.049743652, -0.047943115, -0.010391235, -0.007534027, -0.024261475, 0.0005674362, 0.006450653, -0.024475098, -0.034942627, 0.023757935, -0.041534424, -0.007686615, -0.03427124, -0.0006971359, -0.019302368, -0.029342651, -0.007888794, 0.030014038, 0.011199951, -0.017929077, -0.024841309, -0.03250122, -0.013053894, 0.015525818, -0.028579712, -0.0065612793, -0.033233643, 0.030899048, -0.027069092, -0.013053894, 0.0052604675, -0.0035247803, 0.034423828, 0.04650879, 0.07531738, -0.04336548, -0.064331055, 0.042236328, -0.05606079, 0.044403076, -0.018081665, -0.028579712, -0.0102005005, -0.005355835, -0.001200676, 0.056884766, 0.001367569, 0.046295166, 0.0126571655, 0.0736084, -0.014823914, -0.04748535, -0.04055786, -0.05834961, 0.007965088, -0.031799316, -0.0211792, -0.020202637, 0.042816162, -0.03036499, 0.015960693, 0.014831543, -0.012496948, -0.0028057098, -0.012321472, 0.024795532, -0.014060974, -0.014373779, -0.07598877, -0.026290894, 0.038604736, 0.028900146, -0.04171753, 0.055908203, -0.029403687, 0.011856079, -0.049346924, -0.04244995, -0.004673004, -0.012458801, -0.028762817, 0.04449463, 0.027191162, -0.008163452, -0.020217896, 0.002029419, 0.021270752, 0.019561768, -0.043182373, -0.002872467, 0.018341064, -0.050048828, -0.061462402, -0.009468079, -0.026992798, 0.015213013, 0.010650635, 0.0112838745, 0.09613037, -0.038238525, -0.009315491, -0.010101318, -0.05307007, -0.023391724, -0.042236328, -0.017196655, -0.019927979, -0.00466156]\n"
          ]
        }
      ],
      "source": [
        "# Because the text being embedded is the search query, we set the input type as search_query\n",
        "response = co.embed(\n",
        "    texts=[query],\n",
        "    model=model,\n",
        "    input_type=\"search_query\",\n",
        "    embedding_types=['float']\n",
        ")\n",
        "query_embedding = response.embeddings.float[0]\n",
        "print(\"query_embedding: \", query_embedding)"
      ]
    },
    {
      "cell_type": "markdown",
      "metadata": {
        "id": "8K8B87CGgbOt"
      },
      "source": [
        "### Retrieve the most relevant chunks from the vector database\n",
        "\n",
        "We use cosine similarity to find the most similar chunks"
      ]
    },
    {
      "cell_type": "code",
      "execution_count": 27,
      "metadata": {
        "colab": {
          "base_uri": "https://localhost:8080/"
        },
        "id": "nik3es32gbOt",
        "outputId": "a1c30024-52e1-42c7-8836-a2c590559aca"
      },
      "outputs": [
        {
          "name": "stdout",
          "output_type": "stream",
          "text": [
            "similarity scores:  [0.14608116519196138, 0.2502073975041875, 0.20311996519086137, 0.15956129122681317, 0.35395973878805964, 0.2140226145569584, 0.18235560537066342, 0.18398022103531095, 0.2047525322199158, 0.14790231696608075, 0.21717034205725197, 0.15366216639595587, 0.2250012355985921, 0.23834481226899934, 0.20862891296394914, 0.25510111220110065, 0.20479051897849504, 0.16822052722031697, 0.24709635878776082, 0.20493648626132785, 0.3029409416862092, 0.3518498605908433, 0.2398414197832897, 0.21209605184803837, 0.1770955901417053, 0.22771108532677484, 0.21109573559885142, 0.3785508440231242, 0.13061456525571583, 0.17293050395203302, 0.15736756043237954, 0.2140388696262672, 0.25233739099620933, 0.2786217590606114, 0.2313459814973475, 0.1392863723724924, 0.2134192160624585, 0.24563221555190315, 0.2629577229314225, 0.22432679223968527, 0.255530331336756, 0.1878416418819459, 0.18850428435789915, 0.10807399357403387, 0.11319260762321336, 0.02641185238857361]\n",
            "Here are the indices of the top 10 chunks after retrieval:  [27  4 21 20 33 38 40 15 32  1]\n",
            "Here are the top 10 chunks after retrieval: \n",
            "== that otherwise would be issued to the Optionee pursuant to the exercise of this Option. The Company may refuse to honor the exercise and refuse to deliver Shares if such withholding amounts are not delivered at the time of exercise.            (B)    Notice of Disqualifying Disposition of ISO Shares. If the Option is an ISO, and if the Optionee sells or otherwise disposes of any of the Shares acquired pursuant to the exercise of the ISO on or before the later of (i) the date two years after the Grant Date,\n",
            "== (the \"Optionee\") an option (the \"Option\") to purchase the number of Shares, as set forth in the Notice of Stock Option Grant, at the exercise price per Share set forth in the Notice of Stock Option Grant (the \"Exercise Price\"), subject to the terms and conditions of this Option Agreement and the Plan. This Option is intended to be a Nonstatutory Stock Option (\"NSO\") or an Incentive Stock Option (\"ISO\"), as provided in the Notice of Stock Option Grant.      2.2    Exercise of Option.\n",
            "== to have incurred a Termination of Service on the first day immediately following such three-month period of leave for ISO purposes and this Option shall cease to be treated as an ISO and shall terminate upon the expiration of the three-month period that begins the date the employment relationship is deemed terminated.      2.6    Non-Transferability of Option. This Option may not be transferred in any manner other than by will or by the laws of descent and distribution, and may be exercised during the\n",
            "== the terms of the leave or by applicable law. The Optionee shall incur a Termination of Service when the approved leave ends, however, unless the Optionee immediately returns to active work.            For purposes of ISOs, no leave of absence may exceed three months, unless the right to reemployment upon expiration of such leave is provided by statute or contract. If the right to reemployment is not so provided by statute or contract, the Optionee will be deemed to have incurred a Termination of Service on\n",
            "== in writing or electronically that the Option will be fully vested and exercisable for a period determined by the Administrator in its sole discretion, and the Option will terminate upon the expiration of such period.      2.12    Restrictions on Resale. The Optionee shall not sell any Shares at a time when Applicable Law, Company policies or an agreement between the Company and its underwriters prohibit a sale. This restriction shall apply as long as the Optionee is a Service Provider and for such period\n",
            "== This Option Agreement, the transactions contemplated hereunder, and the Vesting Schedule set forth herein constitute neither an express nor an implied promise of continued engagement as a Service Provider for the vesting period, for any period, or at all, and shall not interfere with Optionee's right or the Company's right to terminate Optionee's relationship as a Service Provider at any time, with or without Cause.            By the Optionee's signature and the signature of the Company's representative\n",
            "== The Optionee hereby agrees to accept as binding, conclusive, and final all decisions or interpretations of the Administrator upon any questions relating to this Option Agreement and the Plan.The Optionee further agrees that the Company may deliver all documents relating to the Plan or this Option (including prospectuses required by the Securities and Exchange Commission), and all other documents that the Company is required to deliver to its security holders or the Optionee (including annual reports, proxy\n",
            "== may be requested by the Company. Any Shares that are issued will be \"restricted securities\" as that term is defined in Rule 144 under the Securities Act, and will bear an appropriate restrictive legend, unless they are registered under the Securities Act. The Company is under no obligation to register the Shares issuable upon exercise of this Option.            (B)    Special Termination Period. If exercise of the Option on the last day of the termination period set forth in Section 1 is prevented by\n",
            "== or subsidiary of the successor corporation. If the successor corporation refuses to assume or substitute for the Option, then immediately before and contingent on the consummation of the Change in Control, the Optionee will fully vest in and have the right to exercise the Option. In addition, if the Option becomes fully vested and exercisable in lieu of assumption or substitution in the event of a Change in Control, the Administrator will notify the Optionee in writing or electronically that the Option\n",
            "== this Option Agreement, as follows:       Name of Optionee:Mark GoldbergTotal Number of Shares Granted: 100000Type of Option:o Nonstatutory Stock Optiono Incentive Stock OptionExercise Price per Share:$ 0.0001Grant Date: June 1, 2020Vesting Commencement Date: Vesting Schedule:This option may be exercised, in whole or in part, in accordance with the following schedule:25% of the Shares subject to the option shall vest 12 months after the Vesting Commencement Date, and 1/48th of the Shares subject to the\n"
          ]
        }
      ],
      "source": [
        "def cosine_similarity(a, b):\n",
        "    return np.dot(a, b) / (np.linalg.norm(a) * np.linalg.norm(b))\n",
        "\n",
        "# Calculate similarity between the user question & each chunk\n",
        "similarities = [cosine_similarity(query_embedding, chunk) for chunk in embeddings]\n",
        "print(\"similarity scores: \", similarities)\n",
        "\n",
        "# Get indices of the top 10 most similar chunks\n",
        "sorted_indices = np.argsort(similarities)[::-1]\n",
        "\n",
        "# Keep only the top 10 indices\n",
        "top_indices = sorted_indices[:10]\n",
        "print(\"Here are the indices of the top 10 chunks after retrieval: \", top_indices)\n",
        "\n",
        "# Retrieve the top 10 most similar chunks\n",
        "top_chunks_after_retrieval = [chunks[i] for i in top_indices]\n",
        "print(\"Here are the top 10 chunks after retrieval: \")\n",
        "for t in top_chunks_after_retrieval:\n",
        "    print(\"== \" + t)"
      ]
    },
    {
      "cell_type": "markdown",
      "metadata": {
        "id": "qzcpds3VgbOt"
      },
      "source": [
        "## Step 2 - Rerank the chunks retrieved from the vector database\n",
        "\n",
        "We rerank the 10 chunks retrieved from the vector database. Reranking boosts retrieval accuracy.\n",
        "\n",
        "Reranking lets us go from 10 chunks retrieved from the vector database, to the 3 most relevant chunks."
      ]
    },
    {
      "cell_type": "code",
      "execution_count": 28,
      "metadata": {
        "colab": {
          "base_uri": "https://localhost:8080/"
        },
        "id": "2J4LywVygbOt",
        "outputId": "7a4c89bf-fc5e-409f-9304-fce006b9d8bf"
      },
      "outputs": [
        {
          "name": "stdout",
          "output_type": "stream",
          "text": [
            "Here are the top 3 chunks after rerank: \n",
            "== (the \"Optionee\") an option (the \"Option\") to purchase the number of Shares, as set forth in the Notice of Stock Option Grant, at the exercise price per Share set forth in the Notice of Stock Option Grant (the \"Exercise Price\"), subject to the terms and conditions of this Option Agreement and the Plan. This Option is intended to be a Nonstatutory Stock Option (\"NSO\") or an Incentive Stock Option (\"ISO\"), as provided in the Notice of Stock Option Grant.      2.2    Exercise of Option.\n",
            "== that otherwise would be issued to the Optionee pursuant to the exercise of this Option. The Company may refuse to honor the exercise and refuse to deliver Shares if such withholding amounts are not delivered at the time of exercise.            (B)    Notice of Disqualifying Disposition of ISO Shares. If the Option is an ISO, and if the Optionee sells or otherwise disposes of any of the Shares acquired pursuant to the exercise of the ISO on or before the later of (i) the date two years after the Grant Date,\n",
            "== to have incurred a Termination of Service on the first day immediately following such three-month period of leave for ISO purposes and this Option shall cease to be treated as an ISO and shall terminate upon the expiration of the three-month period that begins the date the employment relationship is deemed terminated.      2.6    Non-Transferability of Option. This Option may not be transferred in any manner other than by will or by the laws of descent and distribution, and may be exercised during the\n"
          ]
        }
      ],
      "source": [
        "response = co.rerank(\n",
        "    query=query,\n",
        "    documents=top_chunks_after_retrieval,\n",
        "    top_n=3,\n",
        "    model=\"rerank-english-v2.0\",\n",
        ")\n",
        "\n",
        "top_chunks_after_rerank = [result.document['text'] for result in response]\n",
        "print(\"Here are the top 3 chunks after rerank: \")\n",
        "for t in top_chunks_after_rerank:\n",
        "    print(\"== \" + t)"
      ]
    },
    {
      "cell_type": "markdown",
      "metadata": {
        "id": "KuPL0VUXgbOt"
      },
      "source": [
        "## Step 3 - Generate the model final answer, given the retrieved and reranked chunks"
      ]
    },
    {
      "cell_type": "code",
      "execution_count": 29,
      "metadata": {
        "id": "oCNXWH8GgbOt"
      },
      "outputs": [],
      "source": [
        "# preamble containing instructions about the task and the desired style for the output.\n",
        "preamble = \"\"\"\n",
        "## Task & Context\n",
        "You help people answer their questions and other requests interactively. You will be asked a very wide array of requests on all kinds of topics. You will be equipped with a wide range of search engines or similar tools to help you, which you use to research your answer. You should focus on serving the user's needs as best you can, which will be wide-ranging.\n",
        "\n",
        "## Style Guide\n",
        "Unless the user asks for a different style of answer, you should answer in full sentences, using proper grammar and spelling.\n",
        "\"\"\""
      ]
    },
    {
      "cell_type": "code",
      "execution_count": 30,
      "metadata": {
        "colab": {
          "base_uri": "https://localhost:8080/"
        },
        "id": "BevatShtgbOt",
        "outputId": "af71f4a9-787a-4ee3-9598-20692fb3bf16"
      },
      "outputs": [
        {
          "name": "stdout",
          "output_type": "stream",
          "text": [
            "Final answer:\n",
            "ISO.\n"
          ]
        }
      ],
      "source": [
        "# retrieved documents\n",
        "documents = [\n",
        "    {\"title\": \"chunk 0\", \"snippet\": top_chunks_after_rerank[0]},\n",
        "    {\"title\": \"chunk 1\", \"snippet\": top_chunks_after_rerank[1]},\n",
        "    {\"title\": \"chunk 2\", \"snippet\": top_chunks_after_rerank[2]},\n",
        "  ]\n",
        "\n",
        "# get model response\n",
        "response = co.chat(\n",
        "  message=query,\n",
        "  documents=documents,\n",
        "  preamble=preamble,\n",
        "  model=\"command-r\",\n",
        "  temperature=0.3\n",
        ")\n",
        "\n",
        "print(\"Final answer:\")\n",
        "print(response.text)"
      ]
    },
    {
      "cell_type": "markdown",
      "metadata": {
        "id": "20wcn-EjlXZd"
      },
      "source": [
        "Note: this is indeed the answer you'd expect, and here was the passage of text in wikipedia explaining it!\n",
        "\n",
        "\" [...] Dune: Part Two was originally scheduled to be released on October 20, 2023, but was delayed to November 17, 2023, before moving forward two weeks to November 3, 2023, to adjust to changes in release schedules from other studios. It was later postponed by over four months to March 15, 2024, due to the 2023 Hollywood labor disputes. After the strikes were resolved, the film moved once more up two weeks to March 1, 2024. [...]\""
      ]
    },
    {
      "cell_type": "markdown",
      "metadata": {
        "id": "RoSVDXSsgbOt"
      },
      "source": [
        "## Bonus: Citations come for free with Cohere! 🎉\n",
        "\n",
        "At Cohere, all RAG calls come with... precise citations! 🎉\n",
        "The model cites which groups of words, in the RAG chunks, were used to generate the final answer.  \n",
        "These citations make it easy to check where the model’s generated response claims are coming from.  \n",
        "They help users gain visibility into the model reasoning, and sanity check the final model generation.  \n",
        "These citations are optional — you can decide to ignore them.\n"
      ]
    },
    {
      "cell_type": "code",
      "execution_count": null,
      "metadata": {
        "colab": {
          "base_uri": "https://localhost:8080/"
        },
        "id": "BVTuQdmDgbOt",
        "outputId": "f843b262-d8bb-45ba-cbfb-9915da104eda"
      },
      "outputs": [
        {
          "name": "stdout",
          "output_type": "stream",
          "text": [
            "Citations that support the final answer:\n",
            "{'start': 63, 'end': 79, 'text': 'Denis Villeneuve', 'document_ids': ['doc_0']}\n",
            "{'start': 81, 'end': 102, 'text': 'director and producer', 'document_ids': ['doc_0']}\n",
            "{'start': 105, 'end': 116, 'text': 'Jon Spaihts', 'document_ids': ['doc_0']}\n",
            "{'start': 118, 'end': 145, 'text': 'co-writer of the screenplay', 'document_ids': ['doc_0']}\n",
            "{'start': 148, 'end': 159, 'text': 'Mary Parent', 'document_ids': ['doc_1']}\n",
            "{'start': 164, 'end': 175, 'text': 'Cale Boyter', 'document_ids': ['doc_1']}\n",
            "{'start': 177, 'end': 186, 'text': 'producers', 'document_ids': ['doc_1']}\n",
            "{'start': 190, 'end': 204, 'text': 'Tanya Lapointe', 'document_ids': ['doc_1']}\n",
            "{'start': 206, 'end': 219, 'text': 'Brian Herbert', 'document_ids': ['doc_1']}\n",
            "{'start': 221, 'end': 234, 'text': 'Byron Merritt', 'document_ids': ['doc_1']}\n",
            "{'start': 236, 'end': 247, 'text': 'Kim Herbert', 'document_ids': ['doc_1']}\n",
            "{'start': 249, 'end': 260, 'text': 'Thomas Tull', 'document_ids': ['doc_1']}\n",
            "{'start': 262, 'end': 283, 'text': 'Richard P. Rubinstein', 'document_ids': ['doc_1']}\n",
            "{'start': 285, 'end': 298, 'text': 'John Harrison', 'document_ids': ['doc_1']}\n",
            "{'start': 300, 'end': 315, 'text': 'Herbert W. Gain', 'document_ids': ['doc_1']}\n",
            "{'start': 320, 'end': 337, 'text': 'Kevin J. Anderson', 'document_ids': ['doc_1']}\n",
            "{'start': 339, 'end': 358, 'text': 'executive producers', 'document_ids': ['doc_1']}\n",
            "{'start': 362, 'end': 372, 'text': 'Joe Walker', 'document_ids': ['doc_2']}\n",
            "{'start': 374, 'end': 380, 'text': 'editor', 'document_ids': ['doc_2']}\n",
            "{'start': 383, 'end': 393, 'text': 'Brad Riker', 'document_ids': ['doc_2']}\n",
            "{'start': 395, 'end': 419, 'text': 'supervising art director', 'document_ids': ['doc_2']}\n",
            "{'start': 422, 'end': 438, 'text': 'Patrice Vermette', 'document_ids': ['doc_2']}\n",
            "{'start': 440, 'end': 459, 'text': 'production designer', 'document_ids': ['doc_2']}\n",
            "{'start': 462, 'end': 474, 'text': 'Paul Lambert', 'document_ids': ['doc_2']}\n",
            "{'start': 476, 'end': 501, 'text': 'visual effects supervisor', 'document_ids': ['doc_2']}\n",
            "{'start': 504, 'end': 515, 'text': 'Gerd Nefzer', 'document_ids': ['doc_2']}\n",
            "{'start': 517, 'end': 543, 'text': 'special effects supervisor', 'document_ids': ['doc_2']}\n",
            "{'start': 546, 'end': 562, 'text': 'Thomas Struthers', 'document_ids': ['doc_2']}\n",
            "{'start': 564, 'end': 582, 'text': 'stunt coordinator.', 'document_ids': ['doc_2']}\n",
            "{'start': 686, 'end': 691, 'text': '2024.', 'document_ids': ['doc_0']}\n"
          ]
        }
      ],
      "source": [
        "print(\"Citations that support the final answer:\")\n",
        "for cite in response.citations:\n",
        "  print(cite)"
      ]
    },
    {
      "cell_type": "code",
      "execution_count": null,
      "metadata": {
        "colab": {
          "base_uri": "https://localhost:8080/"
        },
        "id": "IueXaIJggbOu",
        "outputId": "c816af51-74be-42c9-e94e-9820bbf95f79"
      },
      "outputs": [
        {
          "name": "stdout",
          "output_type": "stream",
          "text": [
            "Here are the key crew members involved in 'Dune: Part Two':\n",
            "\n",
            "- **Denis Villeneuve**[1]: **director and producer**[1]\n",
            "- **Jon Spaihts**[1]: **co-writer of the screenplay**[1]\n",
            "- **Mary Parent**[2] and **Cale Boyter**[2]: **producers**[2] \n",
            "- **Tanya Lapointe**[2], **Brian Herbert**[2], **Byron Merritt**[2], **Kim Herbert**[2], **Thomas Tull**[2], **Richard P. Rubinstein**[2], **John Harrison**[2], **Herbert W. Gain**[2] and **Kevin J. Anderson**[2]: **executive producers**[2] \n",
            "- **Joe Walker**[3]: **editor**[3]\n",
            "- **Brad Riker**[3]: **supervising art director**[3]\n",
            "- **Patrice Vermette**[3]: **production designer**[3]\n",
            "- **Paul Lambert**[3]: **visual effects supervisor**[3]\n",
            "- **Gerd Nefzer**[3]: **special effects supervisor**[3]\n",
            "- **Thomas Struthers**[3]: **stunt coordinator.**[3] \n",
            "\n",
            "A number of crew members from the first film returned for the sequel, which is set to be released in **2024.**[1]\n",
            "\n",
            "[1] source: \"Dune: Part Two is a 2024 American epic science fiction film directed and produced by Denis Villeneuve, who co-wrote the screenplay with Jon Spaihts. The sequel to Dune (2021) adapts the 1965 novel Dune by Frank Herbert and follows Paul Atreides as he unites with the Fremen people of the desert planet Arrakis to wage war against House Harkonnen. Timothée Chalamet, Rebecca Ferguson, Josh Brolin, Stellan Skarsgård, Dave Bautista, Zendaya, Charlotte Rampling, and Javier Bardem reprise their roles from the first\"\n",
            "[2] source: \"stunt coordinator. Dune: Part Two was produced by Villeneuve, Mary Parent, and Cale Boyter, with Tanya Lapointe, Brian Herbert, Byron Merritt, Kim Herbert, Thomas Tull, Jon Spaihts, Richard P. Rubinstein, John Harrison, and Herbert W. Gain serving as executive producers and Kevin J. Anderson as creative consultant. Legendary CEO Joshua Grode confirmed in April 2019 that they plan to make a sequel, adding that \"there's a logical place to stop the [first] movie before the book is over\".In December 2020,\"\n",
            "[3] source: \"series. Villeneuve ultimately secured a two-film deal with Warner Bros. Pictures, in the same style as the two-part adaption of Stephen King's It in 2017 and 2019. In January 2019, Joe Walker was confirmed to be serving as the film's editor. Other crew included Brad Riker as supervising art director, Patrice Vermette as production designer, Paul Lambert as visual effects supervisor, Gerd Nefzer as special effects supervisor, and Thomas Struthers as stunt coordinator. Dune: Part Two was produced by\"\n"
          ]
        }
      ],
      "source": [
        "def insert_citations_in_order(text, citations):\n",
        "    \"\"\"\n",
        "    A helper function to pretty print citations.\n",
        "    \"\"\"\n",
        "    offset = 0\n",
        "    document_id_to_number = {}\n",
        "    citation_number = 0\n",
        "    modified_citations = []\n",
        "\n",
        "    # Process citations, assigning numbers based on unique document_ids\n",
        "    for citation in citations:\n",
        "        citation_numbers = []\n",
        "        for document_id in sorted(citation[\"document_ids\"]):\n",
        "            if document_id not in document_id_to_number:\n",
        "                citation_number += 1  # Increment for a new document_id\n",
        "                document_id_to_number[document_id] = citation_number\n",
        "            citation_numbers.append(document_id_to_number[document_id])\n",
        "\n",
        "        # Adjust start/end with offset\n",
        "        start, end = citation['start'] + offset, citation['end'] + offset\n",
        "        placeholder = ''.join([f'[{number}]' for number in citation_numbers])\n",
        "        # Bold the cited text and append the placeholder\n",
        "        modification = f'**{text[start:end]}**{placeholder}'\n",
        "        # Replace the cited text with its bolded version + placeholder\n",
        "        text = text[:start] + modification + text[end:]\n",
        "        # Update the offset for subsequent replacements\n",
        "        offset += len(modification) - (end - start)\n",
        "\n",
        "    # Prepare citations for listing at the bottom, ensuring unique document_ids are listed once\n",
        "    unique_citations = {number: doc_id for doc_id, number in document_id_to_number.items()}\n",
        "    citation_list = '\\n'.join([f'[{doc_id}] source: \"{documents[doc_id - 1][\"snippet\"]}\"' for doc_id, number in sorted(unique_citations.items(), key=lambda item: item[1])])\n",
        "    text_with_citations = f'{text}\\n\\n{citation_list}'\n",
        "\n",
        "    return text_with_citations\n",
        "\n",
        "\n",
        "print(insert_citations_in_order(response.text, response.citations))\n"
      ]
    },
    {
      "cell_type": "code",
      "execution_count": null,
      "metadata": {
        "id": "Kp4c_HkYIEn_"
      },
      "outputs": [],
      "source": []
    }
  ],
  "metadata": {
    "colab": {
      "provenance": []
    },
    "kernelspec": {
      "display_name": "hackathon_docs_3",
      "language": "python",
      "name": "python3"
    },
    "language_info": {
      "codemirror_mode": {
        "name": "ipython",
        "version": 3
      },
      "file_extension": ".py",
      "mimetype": "text/x-python",
      "name": "python",
      "nbconvert_exporter": "python",
      "pygments_lexer": "ipython3",
      "version": "3.10.3"
    }
  },
  "nbformat": 4,
  "nbformat_minor": 0
}
